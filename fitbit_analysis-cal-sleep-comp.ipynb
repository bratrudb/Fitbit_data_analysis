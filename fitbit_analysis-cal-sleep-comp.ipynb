{
 "cells": [
  {
   "cell_type": "code",
   "execution_count": 1,
   "id": "37496215",
   "metadata": {},
   "outputs": [],
   "source": [
    "import pandas as pd\n",
    "import glob, os, json\n",
    "import datetime\n",
    "from datetime import datetime\n",
    "import matplotlib as plt\n",
    "pd.set_option(\"display.max_rows\", None, \"display.max_columns\", None)"
   ]
  },
  {
   "cell_type": "code",
   "execution_count": 2,
   "id": "807793ec",
   "metadata": {},
   "outputs": [],
   "source": [
    "# Extract calorie data from json\n",
    "json_dir = 'JSON Files/Physical Activity/Calories'\n",
    "\n",
    "json_pattern = os.path.join(json_dir, '*.json')\n",
    "file_list = glob.glob(json_pattern)\n",
    "\n",
    "dfs = []\n",
    "for file in file_list:\n",
    "    with open(file) as f:\n",
    "        json_data = pd.json_normalize(json.loads(f.read()))\n",
    "        json_data['site'] = file.rsplit(\"/\", 1)[-1]\n",
    "    dfs.append(json_data)\n",
    "calorie_df = pd.concat(dfs)"
   ]
  },
  {
   "cell_type": "code",
   "execution_count": 3,
   "id": "220e2b54",
   "metadata": {},
   "outputs": [],
   "source": [
    "# Convert calories to float\n",
    "calorie_df['value'] = calorie_df['value'].astype(float)"
   ]
  },
  {
   "cell_type": "code",
   "execution_count": null,
   "id": "37c6451e",
   "metadata": {},
   "outputs": [],
   "source": [
    "calorie_df"
   ]
  },
  {
   "cell_type": "code",
   "execution_count": null,
   "id": "09a1d1b1",
   "metadata": {},
   "outputs": [],
   "source": [
    "# Extract date and time information\n",
    "calorie_df['Date'] = pd.DatetimeIndex(calorie_df['dateTime']).date\n",
    "calorie_df['Time'] = pd.DatetimeIndex(calorie_df['dateTime']).time\n",
    "calorie_df['Weekday'] = pd.DatetimeIndex(calorie_df['dateTime']).weekday\n",
    "calorie_df"
   ]
  },
  {
   "cell_type": "code",
   "execution_count": null,
   "id": "e00657cf",
   "metadata": {},
   "outputs": [],
   "source": [
    "# Groupby total calories by date\n",
    "weekday_calories_df = calorie_df.groupby(['Date'])['value'].sum().to_frame().reset_index()\n",
    "weekday_calories_df['Weekday'] = pd.DatetimeIndex(weekday_calories_df['Date']).weekday\n",
    "weekday_calories_df"
   ]
  },
  {
   "cell_type": "code",
   "execution_count": null,
   "id": "58d999a6",
   "metadata": {},
   "outputs": [],
   "source": [
    "# Import sleep data\n",
    "json_dir = 'JSON Files/Sleep'\n",
    "\n",
    "json_pattern = os.path.join(json_dir, 'sleep*.json')\n",
    "file_list = glob.glob(json_pattern)\n",
    "\n",
    "dfs = []\n",
    "for file in file_list:\n",
    "    with open(file) as f:\n",
    "        json_data = pd.json_normalize(json.loads(f.read()))\n",
    "        json_data['site'] = file.rsplit(\"/\", 1)[-1]\n",
    "    dfs.append(json_data)\n",
    "fitbit_df = pd.concat(dfs)"
   ]
  },
  {
   "cell_type": "code",
   "execution_count": null,
   "id": "10458b61",
   "metadata": {},
   "outputs": [],
   "source": [
    "# Add date, time, weekday\n",
    "fitbit_df['wakeDate'] = pd.DatetimeIndex(fitbit_df['endTime']).date\n",
    "fitbit_df['sleepDate'] = pd.DatetimeIndex(fitbit_df['startTime']).date\n",
    "fitbit_df['wakeTime'] = pd.DatetimeIndex(fitbit_df['endTime']).time\n",
    "fitbit_df['sleepTime'] = pd.DatetimeIndex(fitbit_df['startTime']).time\n",
    "fitbit_df['Weekday'] = pd.DatetimeIndex(fitbit_df['endTime']).weekday\n",
    "fitbit_df['hoursAsleep'] = (fitbit_df['minutesAsleep'] / 60)\n",
    "fitbit_df"
   ]
  },
  {
   "cell_type": "code",
   "execution_count": null,
   "id": "1ec234a9",
   "metadata": {},
   "outputs": [],
   "source": [
    "# Import sleep score table\n",
    "sleep_score_df = pd.read_csv('JSON Files/Sleep/sleep_score.csv')\n",
    "sleep_score_df['Date'] = pd.DatetimeIndex(sleep_score_df['timestamp']).date\n",
    "sleep_score_df['Time'] = pd.DatetimeIndex(sleep_score_df['timestamp']).time\n",
    "sleep_score_df['Weekday'] = pd.DatetimeIndex(sleep_score_df['timestamp']).weekday\n",
    "sleep_score_df['Month'] = pd.DatetimeIndex(sleep_score_df['timestamp']).month\n",
    "sleep_score_df"
   ]
  },
  {
   "cell_type": "code",
   "execution_count": null,
   "id": "44cd0d38",
   "metadata": {},
   "outputs": [],
   "source": [
    "sleep_times_df = fitbit_df[['logId', 'dateOfSleep', 'minutesAsleep', 'levels.summary.deep.minutes', 'levels.summary.wake.minutes', 'levels.summary.light.minutes', 'levels.summary.rem.minutes']]\n",
    "sleep_times_df = sleep_times_df.set_index('logId')\n",
    "sleep_times_df[['minutesAsleep', 'levels.summary.deep.minutes', 'levels.summary.wake.minutes', 'levels.summary.light.minutes', 'levels.summary.rem.minutes']] = sleep_times_df[['minutesAsleep', 'levels.summary.deep.minutes', 'levels.summary.wake.minutes', 'levels.summary.light.minutes', 'levels.summary.rem.minutes']] / 60\n",
    "sleep_times_df = sleep_times_df.rename(columns={'dateOfSleep':'Sleep_Date', 'minutesAsleep':'Hours Asleep', 'levels.summary.deep.minutes':'Deep Sleep', 'levels.summary.wake.minutes':'Awake', 'levels.summary.light.minutes':'Light Sleep', 'levels.summary.rem.minutes':'REM'})\n",
    "sleep_times_df.reset_index(inplace=True)"
   ]
  }
 ],
 "metadata": {
  "kernelspec": {
   "display_name": "Python 3",
   "language": "python",
   "name": "python3"
  },
  "language_info": {
   "codemirror_mode": {
    "name": "ipython",
    "version": 3
   },
   "file_extension": ".py",
   "mimetype": "text/x-python",
   "name": "python",
   "nbconvert_exporter": "python",
   "pygments_lexer": "ipython3",
   "version": "3.8.8"
  }
 },
 "nbformat": 4,
 "nbformat_minor": 5
}
